{
 "cells": [
  {
   "cell_type": "code",
   "execution_count": 1,
   "id": "dependent-invitation",
   "metadata": {},
   "outputs": [],
   "source": [
    "import pandas as pd\n",
    "import matplotlib.pyplot as plt"
   ]
  },
  {
   "cell_type": "code",
   "execution_count": 2,
   "id": "blond-louisiana",
   "metadata": {},
   "outputs": [
    {
     "data": {
      "text/html": [
       "<div>\n",
       "<style scoped>\n",
       "    .dataframe tbody tr th:only-of-type {\n",
       "        vertical-align: middle;\n",
       "    }\n",
       "\n",
       "    .dataframe tbody tr th {\n",
       "        vertical-align: top;\n",
       "    }\n",
       "\n",
       "    .dataframe thead th {\n",
       "        text-align: right;\n",
       "    }\n",
       "</style>\n",
       "<table border=\"1\" class=\"dataframe\">\n",
       "  <thead>\n",
       "    <tr style=\"text-align: right;\">\n",
       "      <th></th>\n",
       "      <th>District</th>\n",
       "      <th>Code</th>\n",
       "      <th>Estimate</th>\n",
       "      <th>Prevalence_%</th>\n",
       "      <th>Prevalence_LCL</th>\n",
       "      <th>Prevalence_UCL</th>\n",
       "      <th>NoPLHIV</th>\n",
       "      <th>NoPLHIV_LCL</th>\n",
       "      <th>NoPLHIV_UCL</th>\n",
       "    </tr>\n",
       "  </thead>\n",
       "  <tbody>\n",
       "    <tr>\n",
       "      <th>0</th>\n",
       "      <td>Buffalo City</td>\n",
       "      <td>BUF</td>\n",
       "      <td>Survey</td>\n",
       "      <td>13.600000</td>\n",
       "      <td>10.268000</td>\n",
       "      <td>16.932000</td>\n",
       "      <td>102437</td>\n",
       "      <td>77340</td>\n",
       "      <td>127534</td>\n",
       "    </tr>\n",
       "    <tr>\n",
       "      <th>1</th>\n",
       "      <td>Buffalo City</td>\n",
       "      <td>BUF</td>\n",
       "      <td>Fay-Heriott</td>\n",
       "      <td>13.501283</td>\n",
       "      <td>11.031605</td>\n",
       "      <td>16.421802</td>\n",
       "      <td>101693</td>\n",
       "      <td>83092</td>\n",
       "      <td>123691</td>\n",
       "    </tr>\n",
       "    <tr>\n",
       "      <th>2</th>\n",
       "      <td>City of Cape Town</td>\n",
       "      <td>CPT</td>\n",
       "      <td>Survey</td>\n",
       "      <td>5.200000</td>\n",
       "      <td>3.044000</td>\n",
       "      <td>7.356000</td>\n",
       "      <td>200751</td>\n",
       "      <td>117517</td>\n",
       "      <td>283985</td>\n",
       "    </tr>\n",
       "    <tr>\n",
       "      <th>3</th>\n",
       "      <td>City of Cape Town</td>\n",
       "      <td>CPT</td>\n",
       "      <td>Fay-Heriott</td>\n",
       "      <td>6.020043</td>\n",
       "      <td>4.335072</td>\n",
       "      <td>8.303091</td>\n",
       "      <td>232409</td>\n",
       "      <td>167359</td>\n",
       "      <td>320548</td>\n",
       "    </tr>\n",
       "    <tr>\n",
       "      <th>4</th>\n",
       "      <td>West Coast</td>\n",
       "      <td>DC1</td>\n",
       "      <td>Survey</td>\n",
       "      <td>2.700000</td>\n",
       "      <td>0.000000</td>\n",
       "      <td>5.444000</td>\n",
       "      <td>11302</td>\n",
       "      <td>0</td>\n",
       "      <td>22789</td>\n",
       "    </tr>\n",
       "    <tr>\n",
       "      <th>...</th>\n",
       "      <td>...</td>\n",
       "      <td>...</td>\n",
       "      <td>...</td>\n",
       "      <td>...</td>\n",
       "      <td>...</td>\n",
       "      <td>...</td>\n",
       "      <td>...</td>\n",
       "      <td>...</td>\n",
       "      <td>...</td>\n",
       "    </tr>\n",
       "    <tr>\n",
       "      <th>99</th>\n",
       "      <td>Mangaung</td>\n",
       "      <td>MAN</td>\n",
       "      <td>Fay-Heriott</td>\n",
       "      <td>9.147425</td>\n",
       "      <td>6.725917</td>\n",
       "      <td>12.325536</td>\n",
       "      <td>101520</td>\n",
       "      <td>74646</td>\n",
       "      <td>136792</td>\n",
       "    </tr>\n",
       "    <tr>\n",
       "      <th>100</th>\n",
       "      <td>Nelson Mandela Bay Metro</td>\n",
       "      <td>NMA</td>\n",
       "      <td>Survey</td>\n",
       "      <td>8.300000</td>\n",
       "      <td>3.400000</td>\n",
       "      <td>13.200000</td>\n",
       "      <td>97459</td>\n",
       "      <td>39923</td>\n",
       "      <td>154995</td>\n",
       "    </tr>\n",
       "    <tr>\n",
       "      <th>101</th>\n",
       "      <td>Nelson Mandela Bay Metro</td>\n",
       "      <td>NMA</td>\n",
       "      <td>Fay-Heriott</td>\n",
       "      <td>9.054060</td>\n",
       "      <td>6.128703</td>\n",
       "      <td>13.179704</td>\n",
       "      <td>106313</td>\n",
       "      <td>71964</td>\n",
       "      <td>154757</td>\n",
       "    </tr>\n",
       "    <tr>\n",
       "      <th>102</th>\n",
       "      <td>City of Tshwane</td>\n",
       "      <td>TSH</td>\n",
       "      <td>Survey</td>\n",
       "      <td>11.700000</td>\n",
       "      <td>7.388000</td>\n",
       "      <td>16.012000</td>\n",
       "      <td>361450</td>\n",
       "      <td>228239</td>\n",
       "      <td>494661</td>\n",
       "    </tr>\n",
       "    <tr>\n",
       "      <th>103</th>\n",
       "      <td>City of Tshwane</td>\n",
       "      <td>TSH</td>\n",
       "      <td>Fay-Heriott</td>\n",
       "      <td>11.024858</td>\n",
       "      <td>8.255934</td>\n",
       "      <td>14.574909</td>\n",
       "      <td>340593</td>\n",
       "      <td>255052</td>\n",
       "      <td>450265</td>\n",
       "    </tr>\n",
       "  </tbody>\n",
       "</table>\n",
       "<p>104 rows × 9 columns</p>\n",
       "</div>"
      ],
      "text/plain": [
       "                     District Code     Estimate  Prevalence_%  Prevalence_LCL  \\\n",
       "0                Buffalo City  BUF       Survey     13.600000       10.268000   \n",
       "1                Buffalo City  BUF  Fay-Heriott     13.501283       11.031605   \n",
       "2           City of Cape Town  CPT       Survey      5.200000        3.044000   \n",
       "3           City of Cape Town  CPT  Fay-Heriott      6.020043        4.335072   \n",
       "4                  West Coast  DC1       Survey      2.700000        0.000000   \n",
       "..                        ...  ...          ...           ...             ...   \n",
       "99                   Mangaung  MAN  Fay-Heriott      9.147425        6.725917   \n",
       "100  Nelson Mandela Bay Metro  NMA       Survey      8.300000        3.400000   \n",
       "101  Nelson Mandela Bay Metro  NMA  Fay-Heriott      9.054060        6.128703   \n",
       "102           City of Tshwane  TSH       Survey     11.700000        7.388000   \n",
       "103           City of Tshwane  TSH  Fay-Heriott     11.024858        8.255934   \n",
       "\n",
       "     Prevalence_UCL  NoPLHIV  NoPLHIV_LCL  NoPLHIV_UCL  \n",
       "0         16.932000   102437        77340       127534  \n",
       "1         16.421802   101693        83092       123691  \n",
       "2          7.356000   200751       117517       283985  \n",
       "3          8.303091   232409       167359       320548  \n",
       "4          5.444000    11302            0        22789  \n",
       "..              ...      ...          ...          ...  \n",
       "99        12.325536   101520        74646       136792  \n",
       "100       13.200000    97459        39923       154995  \n",
       "101       13.179704   106313        71964       154757  \n",
       "102       16.012000   361450       228239       494661  \n",
       "103       14.574909   340593       255052       450265  \n",
       "\n",
       "[104 rows x 9 columns]"
      ]
     },
     "execution_count": 2,
     "metadata": {},
     "output_type": "execute_result"
    }
   ],
   "source": [
    "# Read the data\n",
    "data  = pd.read_excel('pone.0212445.s004.xlsx', header=[1])\n",
    "data"
   ]
  },
  {
   "cell_type": "code",
   "execution_count": 3,
   "id": "employed-cricket",
   "metadata": {},
   "outputs": [
    {
     "data": {
      "text/plain": [
       "District          0\n",
       "Code              0\n",
       "Estimate          0\n",
       "Prevalence_%      0\n",
       "Prevalence_LCL    0\n",
       "Prevalence_UCL    0\n",
       "NoPLHIV           0\n",
       "NoPLHIV_LCL       0\n",
       "NoPLHIV_UCL       0\n",
       "dtype: int64"
      ]
     },
     "execution_count": 3,
     "metadata": {},
     "output_type": "execute_result"
    }
   ],
   "source": [
    "# No missing values\n",
    "data.isna().sum()"
   ]
  },
  {
   "cell_type": "code",
   "execution_count": 4,
   "id": "upset-bonus",
   "metadata": {},
   "outputs": [
    {
     "data": {
      "text/plain": [
       "array(['Buffalo City', 'City of Cape Town', 'West Coast', 'Cacadu',\n",
       "       'Amatole', 'Chris Hani', 'Joe Gqabi', 'O.R. Tambo', 'Xhariep',\n",
       "       'Lejweleputswa', 'Thabo Mofutsanyana', 'Cape Winelands',\n",
       "       'Fezile Dabi', 'Ugu', 'uMgungundlovu', 'uThukela', 'uMzinyathi',\n",
       "       'Amajuba', 'Zululand', 'uMkhanyakude', 'uThungulu', 'iLembe',\n",
       "       'Overberg', 'Gert Sibande', 'Nkangala', 'Ehlanzeni', 'Mopani',\n",
       "       'Vhembe', 'Capricorn', 'Waterberg', 'Bojanala Platinum',\n",
       "       'Ngaka Modiri Molema', 'Dr Ruth Segomotsi Mompati', 'Eden',\n",
       "       'Dr Kenneth Kaunda', 'Sedibeng', 'Sisonke', 'Alfred Nzo',\n",
       "       'John Taolo Gaetsewe', 'Sekhukhune', 'West Rand', 'Central Karoo',\n",
       "       'Namakwa', 'Pixley ka Seme', 'Siyanda', 'Frances Baard',\n",
       "       'Ekurhuleni', 'eThekwini', 'City of Johannesburg', 'Mangaung',\n",
       "       'Nelson Mandela Bay Metro', 'City of Tshwane'], dtype=object)"
      ]
     },
     "execution_count": 4,
     "metadata": {},
     "output_type": "execute_result"
    }
   ],
   "source": [
    "# Checking for district names\n",
    "data.District.unique()"
   ]
  },
  {
   "cell_type": "code",
   "execution_count": 5,
   "id": "reasonable-adobe",
   "metadata": {},
   "outputs": [
    {
     "data": {
      "text/plain": [
       "array(['Survey', 'Fay-Heriott'], dtype=object)"
      ]
     },
     "execution_count": 5,
     "metadata": {},
     "output_type": "execute_result"
    }
   ],
   "source": [
    "# Checking for estimate column \n",
    "data.Estimate.unique()"
   ]
  },
  {
   "cell_type": "markdown",
   "id": "developing-calcium",
   "metadata": {},
   "source": [
    "## Number of people living with HIV according to Survey estimate"
   ]
  },
  {
   "cell_type": "code",
   "execution_count": 6,
   "id": "separate-fashion",
   "metadata": {},
   "outputs": [
    {
     "data": {
      "text/html": [
       "<div>\n",
       "<style scoped>\n",
       "    .dataframe tbody tr th:only-of-type {\n",
       "        vertical-align: middle;\n",
       "    }\n",
       "\n",
       "    .dataframe tbody tr th {\n",
       "        vertical-align: top;\n",
       "    }\n",
       "\n",
       "    .dataframe thead th {\n",
       "        text-align: right;\n",
       "    }\n",
       "</style>\n",
       "<table border=\"1\" class=\"dataframe\">\n",
       "  <thead>\n",
       "    <tr style=\"text-align: right;\">\n",
       "      <th></th>\n",
       "      <th>NoPLHIV</th>\n",
       "    </tr>\n",
       "    <tr>\n",
       "      <th>District</th>\n",
       "      <th></th>\n",
       "    </tr>\n",
       "  </thead>\n",
       "  <tbody>\n",
       "    <tr>\n",
       "      <th>Alfred Nzo</th>\n",
       "      <td>104363</td>\n",
       "    </tr>\n",
       "    <tr>\n",
       "      <th>Amajuba</th>\n",
       "      <td>82210</td>\n",
       "    </tr>\n",
       "    <tr>\n",
       "      <th>Amatole</th>\n",
       "      <td>98884</td>\n",
       "    </tr>\n",
       "    <tr>\n",
       "      <th>Bojanala Platinum</th>\n",
       "      <td>212904</td>\n",
       "    </tr>\n",
       "    <tr>\n",
       "      <th>Buffalo City</th>\n",
       "      <td>102437</td>\n",
       "    </tr>\n",
       "  </tbody>\n",
       "</table>\n",
       "</div>"
      ],
      "text/plain": [
       "                   NoPLHIV\n",
       "District                  \n",
       "Alfred Nzo          104363\n",
       "Amajuba              82210\n",
       "Amatole              98884\n",
       "Bojanala Platinum   212904\n",
       "Buffalo City        102437"
      ]
     },
     "execution_count": 6,
     "metadata": {},
     "output_type": "execute_result"
    }
   ],
   "source": [
    "# Filter for survey\n",
    "survey_data = data[data.Estimate =='Survey']\n",
    "\n",
    "#Number of people living with HIV according to Survey estimate\n",
    "survey_data.groupby(['District']).agg({'NoPLHIV':'sum'}).head()"
   ]
  },
  {
   "cell_type": "markdown",
   "id": "developed-grill",
   "metadata": {},
   "source": [
    "## Avarage Number of people living with HIV of the two estimates used for Xhariep"
   ]
  },
  {
   "cell_type": "code",
   "execution_count": 7,
   "id": "parallel-abortion",
   "metadata": {},
   "outputs": [
    {
     "data": {
      "text/html": [
       "<div>\n",
       "<style scoped>\n",
       "    .dataframe tbody tr th:only-of-type {\n",
       "        vertical-align: middle;\n",
       "    }\n",
       "\n",
       "    .dataframe tbody tr th {\n",
       "        vertical-align: top;\n",
       "    }\n",
       "\n",
       "    .dataframe thead th {\n",
       "        text-align: right;\n",
       "    }\n",
       "</style>\n",
       "<table border=\"1\" class=\"dataframe\">\n",
       "  <thead>\n",
       "    <tr style=\"text-align: right;\">\n",
       "      <th></th>\n",
       "      <th></th>\n",
       "      <th>NoPLHIV</th>\n",
       "    </tr>\n",
       "    <tr>\n",
       "      <th>District</th>\n",
       "      <th>Estimate</th>\n",
       "      <th></th>\n",
       "    </tr>\n",
       "  </thead>\n",
       "  <tbody>\n",
       "    <tr>\n",
       "      <th rowspan=\"2\" valign=\"top\">Xhariep</th>\n",
       "      <th>Fay-Heriott</th>\n",
       "      <td>12718</td>\n",
       "    </tr>\n",
       "    <tr>\n",
       "      <th>Survey</th>\n",
       "      <td>11777</td>\n",
       "    </tr>\n",
       "  </tbody>\n",
       "</table>\n",
       "</div>"
      ],
      "text/plain": [
       "                      NoPLHIV\n",
       "District Estimate            \n",
       "Xhariep  Fay-Heriott    12718\n",
       "         Survey         11777"
      ]
     },
     "execution_count": 7,
     "metadata": {},
     "output_type": "execute_result"
    }
   ],
   "source": [
    "xhariep = data[data.District == 'Xhariep']\n",
    "\n",
    "xhariep.groupby(['District','Estimate'])['NoPLHIV'].mean().to_frame()"
   ]
  },
  {
   "cell_type": "code",
   "execution_count": 9,
   "id": "announced-evaluation",
   "metadata": {},
   "outputs": [
    {
     "name": "stderr",
     "output_type": "stream",
     "text": [
      "/Users/chuene/anaconda3/lib/python3.7/site-packages/ipykernel_launcher.py:1: FutureWarning: The default value of regex will change from True to False in a future version.\n",
      "  \"\"\"Entry point for launching an IPython kernel.\n"
     ]
    },
    {
     "data": {
      "text/plain": [
       "Index(['District', 'Code', 'Estimate', 'Prevalence', 'PrevalenceLCL',\n",
       "       'PrevalenceUCL', 'NoPLHIV', 'NoPLHIVLCL', 'NoPLHIVUCL'],\n",
       "      dtype='object')"
      ]
     },
     "execution_count": 9,
     "metadata": {},
     "output_type": "execute_result"
    }
   ],
   "source": [
    "data.columns.str.replace('[_,%]','')"
   ]
  },
  {
   "cell_type": "markdown",
   "id": "moved-career",
   "metadata": {},
   "source": [
    "## Add a column and populate it with the number of people not living with HIV for each row.\n",
    "\n"
   ]
  },
  {
   "cell_type": "code",
   "execution_count": null,
   "id": "willing-dryer",
   "metadata": {},
   "outputs": [],
   "source": [
    "# Change the prevelance percentage to decimal\n",
    "prevelance_percentage = data['Prevalence_%'] / 100\n",
    "\n",
    "# Calculate the new column with reverse percentage to get the total number of people not living with HIV\n",
    "data['NoP_Not_LHIV'] = data['NoPLHIV'] / prevelance_percentage\n",
    "data"
   ]
  },
  {
   "cell_type": "markdown",
   "id": "selective-cream",
   "metadata": {},
   "source": [
    "## What is the total NoPLHIV in all the cities (districts with “city” or “metro” in the name)?"
   ]
  },
  {
   "cell_type": "code",
   "execution_count": null,
   "id": "frank-monitoring",
   "metadata": {},
   "outputs": [],
   "source": [
    "# Empty list to collect the cities with name city and metro only\n",
    "cities = []\n",
    "\n",
    "\n",
    "for district in data.District.unique():\n",
    "    if 'City' in district:\n",
    "        cities.append(district)\n",
    "    if 'Metro' in district:\n",
    "        cities.append(district)\n",
    "\n",
    "data.groupby('District').agg({'NoPLHIV':'sum'}).apply(cities)"
   ]
  },
  {
   "cell_type": "markdown",
   "id": "overhead-senate",
   "metadata": {},
   "source": [
    "## Remove all the special/non-alphabetic characters from the dataframe column names. \n",
    "## Print the resultant field names output. \n",
    "\n",
    "\n"
   ]
  },
  {
   "cell_type": "code",
   "execution_count": 12,
   "id": "smart-ballot",
   "metadata": {},
   "outputs": [
    {
     "name": "stderr",
     "output_type": "stream",
     "text": [
      "/Users/chuene/anaconda3/lib/python3.7/site-packages/ipykernel_launcher.py:1: FutureWarning: The default value of regex will change from True to False in a future version.\n",
      "  \"\"\"Entry point for launching an IPython kernel.\n"
     ]
    },
    {
     "data": {
      "text/plain": [
       "Index(['District', 'Code', 'Estimate', 'Prevalence', 'PrevalenceLCL',\n",
       "       'PrevalenceUCL', 'NoPLHIV', 'NoPLHIVLCL', 'NoPLHIVUCL'],\n",
       "      dtype='object')"
      ]
     },
     "execution_count": 12,
     "metadata": {},
     "output_type": "execute_result"
    }
   ],
   "source": [
    "clean_data_cols = data.columns.str.replace('[_,%]','')\n",
    "clean_data_cols"
   ]
  },
  {
   "cell_type": "markdown",
   "id": "worth-korea",
   "metadata": {},
   "source": [
    "## Using matplotlib, plot each Prevalence confidence interval (Prevalence_UCL and Prevalence_LCL) \n",
    "## for Districts that end in “i”; \n",
    "## according to Fay-Herriott estimates on 1 graph."
   ]
  },
  {
   "cell_type": "code",
   "execution_count": 13,
   "id": "technical-allergy",
   "metadata": {},
   "outputs": [
    {
     "data": {
      "text/plain": [
       "<matplotlib.legend.Legend at 0x7fa2a6385410>"
      ]
     },
     "execution_count": 13,
     "metadata": {},
     "output_type": "execute_result"
    },
    {
     "data": {
      "image/png": "[encoded data removed]",
      "text/plain": [
       "<Figure size 1080x360 with 1 Axes>"
      ]
     },
     "metadata": {
      "needs_background": "light"
     },
     "output_type": "display_data"
    }
   ],
   "source": [
    "name = []\n",
    "for district in data.District.unique():\n",
    "    if district.endswith('i'):\n",
    "        name.append(district)\n",
    "        \n",
    "data_bool = data.District.isin(name)\n",
    "filtered_data = data[data_bool]\n",
    "filtered_data\n",
    "\n",
    "interval = filtered_data.Prevalence_UCL - filtered_data.Prevalence_LCL\n",
    "\n",
    "plt.figure(figsize=(15,5))\n",
    "plt.scatter(filtered_data.District,filtered_data.Prevalence_UCL, label='Prevalence_UCL')\n",
    "plt.scatter(filtered_data.District,interval, label='interval')\n",
    "plt.scatter(filtered_data.District,filtered_data.Prevalence_LCL, label='Prevalence_LCL')\n",
    "plt.title('Prevalence Confidence Interval')\n",
    "plt.ylabel('Prevalence')\n",
    "plt.xlabel('Districts ')\n",
    "plt.legend()"
   ]
  },
  {
   "cell_type": "code",
   "execution_count": null,
   "id": "industrial-spiritual",
   "metadata": {},
   "outputs": [],
   "source": []
  }
 ],
 "metadata": {
  "kernelspec": {
   "display_name": "Python 3",
   "language": "python",
   "name": "python3"
  },
  "language_info": {
   "codemirror_mode": {
    "name": "ipython",
    "version": 3
   },
   "file_extension": ".py",
   "mimetype": "text/x-python",
   "name": "python",
   "nbconvert_exporter": "python",
   "pygments_lexer": "ipython3",
   "version": "3.7.9"
  }
 },
 "nbformat": 4,
 "nbformat_minor": 5
}
